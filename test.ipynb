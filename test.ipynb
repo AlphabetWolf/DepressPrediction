{
 "cells": [
  {
   "cell_type": "code",
   "execution_count": 92,
   "metadata": {},
   "outputs": [
    {
     "name": "stdout",
     "output_type": "stream",
     "text": [
      "Hello, we are 重磅赢家\n"
     ]
    }
   ],
   "source": [
    "print(\"Hello, we are 重磅赢家\") # WE DID IT MAX!!! WE ARE IN KAGGLE!!!"
   ]
  },
  {
   "cell_type": "code",
   "execution_count": 1,
   "metadata": {},
   "outputs": [],
   "source": [
    "# this is for https://www.kaggle.com/competitions/playground-series-s4e11/overview\n",
    "import numpy as np\n",
    "import pandas as pd # 貓熊\n",
    "from sklearn.model_selection import train_test_split\n",
    "from sklearn.naive_bayes import CategoricalNB\n",
    "from sklearn.ensemble import GradientBoostingClassifier, RandomForestClassifier\n",
    "from sklearn.metrics import classification_report"
   ]
  },
  {
   "cell_type": "code",
   "execution_count": 2,
   "metadata": {},
   "outputs": [],
   "source": [
    "# load the data\n",
    "train_data = pd.read_csv('train.csv')\n",
    "test_data = pd.read_csv('test.csv')"
   ]
  },
  {
   "cell_type": "code",
   "execution_count": 147,
   "metadata": {},
   "outputs": [],
   "source": [
    "stu_train_data = pd.DataFrame(train_data.loc[train_data[\"Working Professional or Student\"] == \"Student\"])\n",
    "stu_train_data.drop(columns=[\"id\", \"Name\", \"Working Professional or Student\", \"Profession\", \"Job Satisfaction\", \"Work Pressure\", \"Sleep Duration\", \"Degree\", \"Dietary Habits\", \"City\"], inplace=True)\n",
    "\n",
    "# fill the missing values with the mean value of the column\n",
    "stu_fill_list = ['Academic Pressure', 'CGPA', 'Study Satisfaction']\n",
    "for col in stu_fill_list:\n",
    "    stu_train_data[col] = stu_train_data[col].fillna(stu_train_data[col].mean())\n",
    "stu_train_data.dropna(axis=0, inplace=True)\n",
    "stu_train_data.reset_index(drop=True, inplace=True)"
   ]
  },
  {
   "cell_type": "code",
   "execution_count": 96,
   "metadata": {},
   "outputs": [],
   "source": [
    "pro_train_data = pd.DataFrame(train_data.loc[train_data[\"Working Professional or Student\"] == \"Working Professional\"])\n",
    "# pro_train_data.drop(columns=[\"id\", \"Name\", \"Working Professional or Student\", \"Academic Pressure\", \"CGPA\", \"Study Satisfaction\"], inplace=True)\n",
    "\n",
    "pro_train_data.drop(columns=[\"id\", \"Name\", \"Working Professional or Student\", \"Academic Pressure\", \"CGPA\", \"Study Satisfaction\", \"City\", \"Profession\", \"Sleep Duration\", \"Degree\", \"Dietary Habits\"], inplace=True)\n",
    "\n",
    "\n",
    "# fill the missing values with the mean value of the column\n",
    "pro_fill_list = ['Work Pressure', 'Job Satisfaction']\n",
    "for col in pro_fill_list:\n",
    "    pro_train_data[col] = pro_train_data[col].fillna(pro_train_data[col].mean())\n",
    "# pro_train_data['Profession'] = pro_train_data['Profession'].fillna('Unknown')\n",
    "pro_train_data.dropna(axis=0, inplace=True)\n",
    "pro_train_data.reset_index(drop=True, inplace=True)"
   ]
  },
  {
   "cell_type": "code",
   "execution_count": 4,
   "metadata": {},
   "outputs": [
    {
     "data": {
      "text/plain": [
       "array(['More than 8 hours', 'Less than 5 hours', '5-6 hours', '7-8 hours',\n",
       "       'Sleep_Duration', '1-2 hours', '6-8 hours', '4-6 hours',\n",
       "       '6-7 hours', '10-11 hours', '8-9 hours', '40-45 hours',\n",
       "       '9-11 hours', '2-3 hours', '3-4 hours', 'Moderate', '55-66 hours',\n",
       "       '4-5 hours', '9-6 hours', '1-3 hours', 'Indore', '45', '1-6 hours',\n",
       "       '35-36 hours', '8 hours', 'No', '10-6 hours', 'than 5 hours',\n",
       "       '49 hours', 'Unhealthy', 'Work_Study_Hours', '3-6 hours',\n",
       "       '45-48 hours', '9-5', 'Pune', '9-5 hours'], dtype=object)"
      ]
     },
     "execution_count": 4,
     "metadata": {},
     "output_type": "execute_result"
    }
   ],
   "source": [
    "train_data[\"Sleep Duration\"].unique()\n"
   ]
  },
  {
   "cell_type": "code",
   "execution_count": 5,
   "metadata": {},
   "outputs": [
    {
     "name": "stdout",
     "output_type": "stream",
     "text": [
      "['More than 8 hours', 'Less than 5 hours', '5-6 hours', '7-8 hours', '1-2 hours', '6-8 hours', '4-6 hours', '6-7 hours', '10-11 hours', '8-9 hours', '40-45 hours', '9-11 hours', '2-3 hours', '3-4 hours', 'Moderate', '55-66 hours', '4-5 hours', '9-6 hours', '1-3 hours', '1-6 hours', '35-36 hours', '8 hours', 'No', '10-6 hours', 'than 5 hours', '49 hours', '3-6 hours', '45-48 hours', '9-5', '9-5 hours']\n"
     ]
    }
   ],
   "source": [
    "# Define valid patterns for sleep duration\n",
    "valid_durations = [\n",
    "    \"More than\", \"Less than\", \"hours\", \"-\", \"No\", \"Moderate\"  # Add any acceptable keywords\n",
    "]\n",
    "\n",
    "# Filter out entries that do not match expected patterns\n",
    "filtered_sleep_durations = [\n",
    "    duration for duration in train_data[\"Sleep Duration\"].unique() \n",
    "    if any(keyword in duration for keyword in valid_durations)\n",
    "]\n",
    "\n",
    "# Display filtered unique values\n",
    "print(filtered_sleep_durations)\n"
   ]
  },
  {
   "cell_type": "code",
   "execution_count": 97,
   "metadata": {},
   "outputs": [
    {
     "data": {
      "text/html": [
       "<div>\n",
       "<style scoped>\n",
       "    .dataframe tbody tr th:only-of-type {\n",
       "        vertical-align: middle;\n",
       "    }\n",
       "\n",
       "    .dataframe tbody tr th {\n",
       "        vertical-align: top;\n",
       "    }\n",
       "\n",
       "    .dataframe thead th {\n",
       "        text-align: right;\n",
       "    }\n",
       "</style>\n",
       "<table border=\"1\" class=\"dataframe\">\n",
       "  <thead>\n",
       "    <tr style=\"text-align: right;\">\n",
       "      <th></th>\n",
       "      <th>Gender</th>\n",
       "      <th>Age</th>\n",
       "      <th>Work Pressure</th>\n",
       "      <th>Job Satisfaction</th>\n",
       "      <th>Have you ever had suicidal thoughts ?</th>\n",
       "      <th>Work/Study Hours</th>\n",
       "      <th>Financial Stress</th>\n",
       "      <th>Family History of Mental Illness</th>\n",
       "      <th>Depression</th>\n",
       "    </tr>\n",
       "  </thead>\n",
       "  <tbody>\n",
       "    <tr>\n",
       "      <th>count</th>\n",
       "      <td>112798</td>\n",
       "      <td>112798.000000</td>\n",
       "      <td>112798.000000</td>\n",
       "      <td>112798.000000</td>\n",
       "      <td>112798</td>\n",
       "      <td>112798.000000</td>\n",
       "      <td>112798.000000</td>\n",
       "      <td>112798</td>\n",
       "      <td>112798.000000</td>\n",
       "    </tr>\n",
       "    <tr>\n",
       "      <th>unique</th>\n",
       "      <td>2</td>\n",
       "      <td>NaN</td>\n",
       "      <td>NaN</td>\n",
       "      <td>NaN</td>\n",
       "      <td>2</td>\n",
       "      <td>NaN</td>\n",
       "      <td>NaN</td>\n",
       "      <td>2</td>\n",
       "      <td>NaN</td>\n",
       "    </tr>\n",
       "    <tr>\n",
       "      <th>top</th>\n",
       "      <td>Male</td>\n",
       "      <td>NaN</td>\n",
       "      <td>NaN</td>\n",
       "      <td>NaN</td>\n",
       "      <td>No</td>\n",
       "      <td>NaN</td>\n",
       "      <td>NaN</td>\n",
       "      <td>Yes</td>\n",
       "      <td>NaN</td>\n",
       "    </tr>\n",
       "    <tr>\n",
       "      <th>freq</th>\n",
       "      <td>61916</td>\n",
       "      <td>NaN</td>\n",
       "      <td>NaN</td>\n",
       "      <td>NaN</td>\n",
       "      <td>60893</td>\n",
       "      <td>NaN</td>\n",
       "      <td>NaN</td>\n",
       "      <td>56439</td>\n",
       "      <td>NaN</td>\n",
       "    </tr>\n",
       "    <tr>\n",
       "      <th>mean</th>\n",
       "      <td>NaN</td>\n",
       "      <td>43.991684</td>\n",
       "      <td>2.998963</td>\n",
       "      <td>2.974455</td>\n",
       "      <td>NaN</td>\n",
       "      <td>6.028972</td>\n",
       "      <td>2.951666</td>\n",
       "      <td>NaN</td>\n",
       "      <td>0.081837</td>\n",
       "    </tr>\n",
       "    <tr>\n",
       "      <th>std</th>\n",
       "      <td>NaN</td>\n",
       "      <td>10.949199</td>\n",
       "      <td>1.405640</td>\n",
       "      <td>1.415985</td>\n",
       "      <td>NaN</td>\n",
       "      <td>3.856322</td>\n",
       "      <td>1.405216</td>\n",
       "      <td>NaN</td>\n",
       "      <td>0.274117</td>\n",
       "    </tr>\n",
       "    <tr>\n",
       "      <th>min</th>\n",
       "      <td>NaN</td>\n",
       "      <td>18.000000</td>\n",
       "      <td>1.000000</td>\n",
       "      <td>1.000000</td>\n",
       "      <td>NaN</td>\n",
       "      <td>0.000000</td>\n",
       "      <td>1.000000</td>\n",
       "      <td>NaN</td>\n",
       "      <td>0.000000</td>\n",
       "    </tr>\n",
       "    <tr>\n",
       "      <th>25%</th>\n",
       "      <td>NaN</td>\n",
       "      <td>38.000000</td>\n",
       "      <td>2.000000</td>\n",
       "      <td>2.000000</td>\n",
       "      <td>NaN</td>\n",
       "      <td>3.000000</td>\n",
       "      <td>2.000000</td>\n",
       "      <td>NaN</td>\n",
       "      <td>0.000000</td>\n",
       "    </tr>\n",
       "    <tr>\n",
       "      <th>50%</th>\n",
       "      <td>NaN</td>\n",
       "      <td>46.000000</td>\n",
       "      <td>3.000000</td>\n",
       "      <td>3.000000</td>\n",
       "      <td>NaN</td>\n",
       "      <td>6.000000</td>\n",
       "      <td>3.000000</td>\n",
       "      <td>NaN</td>\n",
       "      <td>0.000000</td>\n",
       "    </tr>\n",
       "    <tr>\n",
       "      <th>75%</th>\n",
       "      <td>NaN</td>\n",
       "      <td>53.000000</td>\n",
       "      <td>4.000000</td>\n",
       "      <td>4.000000</td>\n",
       "      <td>NaN</td>\n",
       "      <td>9.000000</td>\n",
       "      <td>4.000000</td>\n",
       "      <td>NaN</td>\n",
       "      <td>0.000000</td>\n",
       "    </tr>\n",
       "    <tr>\n",
       "      <th>max</th>\n",
       "      <td>NaN</td>\n",
       "      <td>60.000000</td>\n",
       "      <td>5.000000</td>\n",
       "      <td>5.000000</td>\n",
       "      <td>NaN</td>\n",
       "      <td>12.000000</td>\n",
       "      <td>5.000000</td>\n",
       "      <td>NaN</td>\n",
       "      <td>1.000000</td>\n",
       "    </tr>\n",
       "  </tbody>\n",
       "</table>\n",
       "</div>"
      ],
      "text/plain": [
       "        Gender            Age  Work Pressure  Job Satisfaction  \\\n",
       "count   112798  112798.000000  112798.000000     112798.000000   \n",
       "unique       2            NaN            NaN               NaN   \n",
       "top       Male            NaN            NaN               NaN   \n",
       "freq     61916            NaN            NaN               NaN   \n",
       "mean       NaN      43.991684       2.998963          2.974455   \n",
       "std        NaN      10.949199       1.405640          1.415985   \n",
       "min        NaN      18.000000       1.000000          1.000000   \n",
       "25%        NaN      38.000000       2.000000          2.000000   \n",
       "50%        NaN      46.000000       3.000000          3.000000   \n",
       "75%        NaN      53.000000       4.000000          4.000000   \n",
       "max        NaN      60.000000       5.000000          5.000000   \n",
       "\n",
       "       Have you ever had suicidal thoughts ?  Work/Study Hours  \\\n",
       "count                                 112798     112798.000000   \n",
       "unique                                     2               NaN   \n",
       "top                                       No               NaN   \n",
       "freq                                   60893               NaN   \n",
       "mean                                     NaN          6.028972   \n",
       "std                                      NaN          3.856322   \n",
       "min                                      NaN          0.000000   \n",
       "25%                                      NaN          3.000000   \n",
       "50%                                      NaN          6.000000   \n",
       "75%                                      NaN          9.000000   \n",
       "max                                      NaN         12.000000   \n",
       "\n",
       "        Financial Stress Family History of Mental Illness     Depression  \n",
       "count      112798.000000                           112798  112798.000000  \n",
       "unique               NaN                                2            NaN  \n",
       "top                  NaN                              Yes            NaN  \n",
       "freq                 NaN                            56439            NaN  \n",
       "mean            2.951666                              NaN       0.081837  \n",
       "std             1.405216                              NaN       0.274117  \n",
       "min             1.000000                              NaN       0.000000  \n",
       "25%             2.000000                              NaN       0.000000  \n",
       "50%             3.000000                              NaN       0.000000  \n",
       "75%             4.000000                              NaN       0.000000  \n",
       "max             5.000000                              NaN       1.000000  "
      ]
     },
     "execution_count": 97,
     "metadata": {},
     "output_type": "execute_result"
    }
   ],
   "source": [
    "pro_train_data.describe(include='all')"
   ]
  },
  {
   "cell_type": "code",
   "execution_count": 148,
   "metadata": {},
   "outputs": [],
   "source": [
    "# separate labels with features\n",
    "stu_train_data_label = stu_train_data['Depression']\n",
    "stu_train_data_features = stu_train_data.drop(columns='Depression')\n",
    "pro_train_data_label = pro_train_data['Depression']\n",
    "pro_train_data_features = pro_train_data.drop(columns='Depression')\n",
    "\n",
    "\n",
    "# 獨熱編碼\n",
    "stu_train_data_features = pd.get_dummies(stu_train_data_features)\n",
    "pro_train_data_features = pd.get_dummies(pro_train_data_features)"
   ]
  },
  {
   "cell_type": "code",
   "execution_count": null,
   "metadata": {},
   "outputs": [
    {
     "name": "stdout",
     "output_type": "stream",
     "text": [
      "              precision    recall  f1-score   support\n",
      "\n",
      "           0       0.82      0.79      0.80      2358\n",
      "           1       0.85      0.87      0.86      3222\n",
      "\n",
      "    accuracy                           0.83      5580\n",
      "   macro avg       0.83      0.83      0.83      5580\n",
      "weighted avg       0.83      0.83      0.83      5580\n",
      "\n"
     ]
    }
   ],
   "source": [
    "# 機器學習 - student\n",
    "X_train, X_test, y_train, y_test = train_test_split(stu_train_data_features, stu_train_data_label, test_size=0.2)\n",
    "stu_model = RandomForestClassifier(n_estimators=1000) # 83%\n",
    "stu_model.fit(X_train, y_train)\n",
    "y_pred = stu_model.predict(X_test)\n",
    "print(classification_report(y_test, y_pred))"
   ]
  },
  {
   "cell_type": "code",
   "execution_count": 101,
   "metadata": {},
   "outputs": [
    {
     "name": "stdout",
     "output_type": "stream",
     "text": [
      "              precision    recall  f1-score   support\n",
      "\n",
      "           0       0.97      0.98      0.98     20762\n",
      "           1       0.75      0.65      0.69      1798\n",
      "\n",
      "    accuracy                           0.95     22560\n",
      "   macro avg       0.86      0.82      0.84     22560\n",
      "weighted avg       0.95      0.95      0.95     22560\n",
      "\n"
     ]
    }
   ],
   "source": [
    "X_train, X_test, y_train, y_test = train_test_split(pro_train_data_features, pro_train_data_label, test_size=0.2)\n",
    "pro_model = RandomForestClassifier(n_estimators=1000) # 95%\n",
    "pro_model.fit(X_train, y_train)\n",
    "y_pred = pro_model.predict(X_test)\n",
    "print(classification_report(y_test, y_pred))"
   ]
  },
  {
   "cell_type": "code",
   "execution_count": 156,
   "metadata": {},
   "outputs": [],
   "source": [
    "stu_test_data = pd.DataFrame(test_data.loc[test_data[\"Working Professional or Student\"] == \"Student\"])\n",
    "pro_test_data = pd.DataFrame(test_data.loc[test_data[\"Working Professional or Student\"] == \"Working Professional\"])"
   ]
  },
  {
   "cell_type": "code",
   "execution_count": 157,
   "metadata": {},
   "outputs": [],
   "source": [
    "stu_test_data.drop(columns=[\"id\", \"Name\", \"Working Professional or Student\", \"Profession\", \"Job Satisfaction\", \"Work Pressure\", \"Sleep Duration\", \"Degree\", \"Dietary Habits\", \"City\"], inplace=True)\n",
    "stu_fill_list = ['Academic Pressure', 'CGPA', 'Study Satisfaction']\n",
    "for col in stu_fill_list:\n",
    "    stu_test_data[col] = stu_test_data[col].fillna(stu_test_data[col].mean())\n",
    "\n",
    "stu_test_data = pd.get_dummies(stu_test_data)"
   ]
  },
  {
   "cell_type": "code",
   "execution_count": 158,
   "metadata": {},
   "outputs": [],
   "source": [
    "pro_test_data.drop(columns=[\"id\", \"Name\", \"Working Professional or Student\", \"Academic Pressure\", \"CGPA\", \"Study Satisfaction\", \"City\", \"Profession\", \"Sleep Duration\", \"Degree\", \"Dietary Habits\"], inplace=True)\n",
    "pro_fill_list = ['Work Pressure', 'Job Satisfaction']\n",
    "for col in pro_fill_list:\n",
    "    pro_test_data[col] = pro_test_data[col].fillna(pro_test_data[col].mean())\n",
    "    \n",
    "# pro_test_data['Profession'] = pro_train_data['Profession'].fillna('Unknown')\n",
    "pro_test_data = pd.get_dummies(pro_test_data)"
   ]
  },
  {
   "cell_type": "code",
   "execution_count": 159,
   "metadata": {},
   "outputs": [],
   "source": [
    "pro_test_data['Depression'] = pro_model.predict(pro_test_data)\n",
    "stu_test_data['Depression'] = stu_model.predict(stu_test_data)"
   ]
  },
  {
   "cell_type": "code",
   "execution_count": 179,
   "metadata": {},
   "outputs": [],
   "source": [
    "submission = pd.DataFrame(test_data['id'], columns=['id', 'Depression'])\n",
    "submission['Depression'] = pd.concat([pro_test_data['Depression'], stu_test_data['Depression']]).sort_index()"
   ]
  },
  {
   "cell_type": "code",
   "execution_count": null,
   "metadata": {},
   "outputs": [
    {
     "data": {
      "text/html": [
       "<div>\n",
       "<style scoped>\n",
       "    .dataframe tbody tr th:only-of-type {\n",
       "        vertical-align: middle;\n",
       "    }\n",
       "\n",
       "    .dataframe tbody tr th {\n",
       "        vertical-align: top;\n",
       "    }\n",
       "\n",
       "    .dataframe thead th {\n",
       "        text-align: right;\n",
       "    }\n",
       "</style>\n",
       "<table border=\"1\" class=\"dataframe\">\n",
       "  <thead>\n",
       "    <tr style=\"text-align: right;\">\n",
       "      <th></th>\n",
       "      <th>id</th>\n",
       "      <th>Depression</th>\n",
       "    </tr>\n",
       "  </thead>\n",
       "  <tbody>\n",
       "    <tr>\n",
       "      <th>0</th>\n",
       "      <td>140700</td>\n",
       "      <td>0</td>\n",
       "    </tr>\n",
       "    <tr>\n",
       "      <th>1</th>\n",
       "      <td>140701</td>\n",
       "      <td>0</td>\n",
       "    </tr>\n",
       "    <tr>\n",
       "      <th>2</th>\n",
       "      <td>140702</td>\n",
       "      <td>0</td>\n",
       "    </tr>\n",
       "    <tr>\n",
       "      <th>3</th>\n",
       "      <td>140703</td>\n",
       "      <td>1</td>\n",
       "    </tr>\n",
       "    <tr>\n",
       "      <th>4</th>\n",
       "      <td>140704</td>\n",
       "      <td>0</td>\n",
       "    </tr>\n",
       "  </tbody>\n",
       "</table>\n",
       "</div>"
      ],
      "text/plain": [
       "       id  Depression\n",
       "0  140700           0\n",
       "1  140701           0\n",
       "2  140702           0\n",
       "3  140703           1\n",
       "4  140704           0"
      ]
     },
     "execution_count": 180,
     "metadata": {},
     "output_type": "execute_result"
    }
   ],
   "source": [
    "submission.head() # now we need to save as csv"
   ]
  },
  {
   "cell_type": "code",
   "execution_count": 186,
   "metadata": {},
   "outputs": [],
   "source": [
    "submission.to_csv('submission.csv', index=False, lineterminator='\\n') # save the submission"
   ]
  }
 ],
 "metadata": {
  "kernelspec": {
   "display_name": "mental",
   "language": "python",
   "name": "python3"
  },
  "language_info": {
   "codemirror_mode": {
    "name": "ipython",
    "version": 3
   },
   "file_extension": ".py",
   "mimetype": "text/x-python",
   "name": "python",
   "nbconvert_exporter": "python",
   "pygments_lexer": "ipython3",
   "version": "3.11.10"
  }
 },
 "nbformat": 4,
 "nbformat_minor": 2
}
